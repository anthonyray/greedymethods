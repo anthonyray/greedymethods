{
 "metadata": {
  "name": "Examen"
 },
 "nbformat": 3,
 "nbformat_minor": 0,
 "worksheets": [
  {
   "cells": [
    {
     "cell_type": "markdown",
     "metadata": {},
     "source": "# Examen n\u00b01 : Intervalles de confiance et m\u00e9thodes gloutonnnes\n## Exercice 1 (Tests dans le mod\u00e8le gaussien)\n\nOn souhaite expliquer la concentration en Ozone en fonction de toutes les autres variables et de la variable constante, par un mod\u00e8le lin\u00e9aire.\n\n### Question 1"
    },
    {
     "cell_type": "code",
     "collapsed": false,
     "input": "from IPython.display import Math\nMath(r'y = X \\theta + \\epsilon')",
     "language": "python",
     "metadata": {},
     "outputs": [
      {
       "latex": "$$y = X \\theta + \\epsilon$$",
       "metadata": {},
       "output_type": "pyout",
       "prompt_number": 39,
       "text": "<IPython.core.display.Math at 0x1bcd350>"
      }
     ],
     "prompt_number": 39
    },
    {
     "cell_type": "markdown",
     "metadata": {},
     "source": "### Question 2\n"
    },
    {
     "cell_type": "code",
     "collapsed": false,
     "input": "import statsmodels.api as sm\nimport numpy as np\nimport scipy.stats as sp\nimport sklearn as sk\nimport sklearn.linear_model as LinearModel\nimport pandas as pd\n\n# R\u00e9cup\u00e9ration des donn\u00e9es \ndata = sm.datasets.get_rdataset('airquality').data\n\n# Nettoyage du jeu de donn\u00e9es\ndata = data.dropna()\n\n\n# Regression lineaire\ncolumns_name = data.columns.values\ny = data[columns_name[0]] # y contient les valeurs de l'Ozone\nX = data[columns_name[1:]]",
     "language": "python",
     "metadata": {},
     "outputs": []
    },
    {
     "cell_type": "markdown",
     "metadata": {},
     "source": "### Question 3"
    },
    {
     "cell_type": "code",
     "collapsed": false,
     "input": "# Regression lineaire\ncolumns_name = data.columns.values\ny = data[columns_name[0]] # y contient les valeurs de l'Ozone\nX = data[columns_name[1:]]\n\n# Centrer et r\u00e9duire les donn\u00e9es\ny = (y) / np.sqrt(np.var(y))\nX = (X) / np.sqrt(np.var(X))\n\nX = sm.add_constant(X)\n\n# Question 3\n\nMCO = LinearModel.LinearRegression(fit_intercept=True)\nMCO.fit(X,y)\n",
     "language": "python",
     "metadata": {},
     "outputs": []
    },
    {
     "cell_type": "markdown",
     "metadata": {},
     "source": "### Question 4\n"
    },
    {
     "cell_type": "code",
     "collapsed": false,
     "input": "alpha_max=1e4\neps=1e-12\n\nn_alphas=50\nalphas = np.logspace(np.log10(alpha_max * eps), np.log10(alpha_max),num=n_alphas)\n\nclf = LinearModel.RidgeCV(alphas=alphas,fit_intercept=True,normalize=False,cv=sk.cross_validation.KFold(data.shape[0],7,shuffle=False))\nclf.fit(X, y)",
     "language": "python",
     "metadata": {},
     "outputs": []
    },
    {
     "cell_type": "markdown",
     "metadata": {},
     "source": "### Question 5\nLes estimateurs des moindres carr\u00e9s des coefficients du mod\u00e8le sont : \n"
    },
    {
     "cell_type": "code",
     "collapsed": false,
     "input": "Math(r'\\hat{\\theta} = (X\\,^t X)^{-1}X\\,^t y ')",
     "language": "python",
     "metadata": {},
     "outputs": [
      {
       "latex": "$$\\hat{\\theta} = (X\\,^t X)^{-1}X\\,^t y $$",
       "metadata": {},
       "output_type": "pyout",
       "prompt_number": 40,
       "text": "<IPython.core.display.Math at 0x1bcd390>"
      }
     ],
     "prompt_number": 40
    },
    {
     "cell_type": "markdown",
     "metadata": {},
     "source": "L'estimateur sans biais de la variance des bruits est le suivant : "
    },
    {
     "cell_type": "code",
     "collapsed": false,
     "input": "Math(r'\\hat{\\sigma}^2 = \\frac{1}{n - rg(X)}\\| y - X\\hat{\\theta}\\|^2_2')",
     "language": "python",
     "metadata": {},
     "outputs": [
      {
       "latex": "$$\\hat{\\sigma}^2 = \\frac{1}{n - rg(X)}\\| y - X\\hat{\\theta}\\|^2_2$$",
       "metadata": {},
       "output_type": "pyout",
       "prompt_number": 84,
       "text": "<IPython.core.display.Math at 0x3cd73d0>"
      }
     ],
     "prompt_number": 84
    },
    {
     "cell_type": "markdown",
     "metadata": {},
     "source": "Pour ce mod\u00e8le et ce jeu de donn\u00e9es, on obtient : \n"
    },
    {
     "cell_type": "code",
     "collapsed": false,
     "input": "result = y - np.dot(X,MCO.coef_) - MCO.intercept_\nnoise_estimation = (1.0 / (X.shape[0] - np.linalg.matrix_rank(X))) * (np.linalg.norm(result))**2\n\nprint noise_estimation",
     "language": "python",
     "metadata": {},
     "outputs": []
    },
    {
     "cell_type": "markdown",
     "metadata": {},
     "source": "### Question 6\nL'hypoth\u00e8se nulle est la suivante, pour un coefficient fix\u00e9 : \n"
    },
    {
     "cell_type": "code",
     "collapsed": true,
     "input": "Math(r'H_0 : \\big\\{ \\theta_j = 0\\big\\}')",
     "language": "python",
     "metadata": {},
     "outputs": [
      {
       "latex": "$$H_0 : \\big\\{ \\theta_j = 0\\big\\}$$",
       "metadata": {},
       "output_type": "pyout",
       "prompt_number": 51,
       "text": "<IPython.core.display.Math at 0x1bcd110>"
      }
     ],
     "prompt_number": 51
    },
    {
     "cell_type": "code",
     "collapsed": false,
     "input": "Math(r'H_1 : \\big\\{ \\theta_j \\not{=}  0\\big\\}')",
     "language": "python",
     "metadata": {},
     "outputs": [
      {
       "latex": "$$H_1 : \\big\\{ \\theta_j \\not{=}  0\\big\\}$$",
       "metadata": {},
       "output_type": "pyout",
       "prompt_number": 53,
       "text": "<IPython.core.display.Math at 0x1bcd2d0>"
      }
     ],
     "prompt_number": 53
    },
    {
     "cell_type": "markdown",
     "metadata": {},
     "source": "En utilisant la proposition 1, on a que : "
    },
    {
     "cell_type": "code",
     "collapsed": false,
     "input": "Math(r'\\hat{\\theta_j}\\sim \\mathcal{N}(\\theta_j, \\sigma^2(X\\,^tX)^{-1}_{j,j})')",
     "language": "python",
     "metadata": {},
     "outputs": [
      {
       "latex": "$$\\hat{\\theta_j}\\sim \\mathcal{N}(\\theta_j, \\sigma^2(X\\,^tX)^{-1}_{j,j})$$",
       "metadata": {},
       "output_type": "pyout",
       "prompt_number": 62,
       "text": "<IPython.core.display.Math at 0x1bcd690>"
      }
     ],
     "prompt_number": 62
    },
    {
     "cell_type": "markdown",
     "metadata": {},
     "source": "On peut donc construire : \n"
    },
    {
     "cell_type": "code",
     "collapsed": false,
     "input": "Math(r'Z = \\frac{\\hat{\\theta} - \\theta}{\\sqrt(\\frac{\\hat{\\sigma}^2}{n-p})}')",
     "language": "python",
     "metadata": {},
     "outputs": [
      {
       "latex": "$$Z = \\frac{\\hat{\\theta} - \\theta}{\\sqrt(\\frac{\\hat{\\sigma}^2}{n-p})}$$",
       "metadata": {},
       "output_type": "pyout",
       "prompt_number": 68,
       "text": "<IPython.core.display.Math at 0x1c32490>"
      }
     ],
     "prompt_number": 68
    },
    {
     "cell_type": "markdown",
     "metadata": {},
     "source": "La statistique construite suit une loi de student de degr\u00e9 de libert\u00e9 n-p-1.\n\nOn en d\u00e9duit l'intervalle d'acceptation : "
    },
    {
     "cell_type": "code",
     "collapsed": false,
     "input": "Math(r'\\big[F(\\frac{\\alpha}{2}),F(1 - \\frac{\\alpha}{2})\\big]')",
     "language": "python",
     "metadata": {},
     "outputs": [
      {
       "latex": "$$\\big[F(\\frac{\\alpha}{2}),F(1 - \\frac{\\alpha}{2})\\big]$$",
       "metadata": {},
       "output_type": "pyout",
       "prompt_number": 81,
       "text": "<IPython.core.display.Math at 0x1c32550>"
      }
     ],
     "prompt_number": 81
    },
    {
     "cell_type": "code",
     "collapsed": false,
     "input": "a = sp.t(X.shape[0] - np.linalg.matrix_rank(X) - 1).ppf(0.05)\nb = sp.t(X.shape[0] - np.linalg.matrix_rank(X) - 1).ppf(0.95)\n",
     "language": "python",
     "metadata": {},
     "outputs": []
    },
    {
     "cell_type": "code",
     "collapsed": false,
     "input": "Concernant la pertinence des variables 'Day' et 'Month' : ",
     "language": "python",
     "metadata": {},
     "outputs": []
    },
    {
     "cell_type": "code",
     "collapsed": false,
     "input": "inverse = np.linalg.inv(np.dot(X.T,X))\ntheta_hat = clf.coef_\nZ = np.zeros((X.shape[1],1))\nsigma = noise_estimation\n\nfor i in range(Z.shape[0]):\n    Z[i,0] = theta_hat[i] / (sigma * np.sqrt( inverse[i,i]  ))\n\nprint Z\n\na = sp.t(X.shape[0] - np.linalg.matrix_rank(X) - 1).ppf(0.005)\nb = sp.t(X.shape[0] - np.linalg.matrix_rank(X) - 1).ppf(0.995)\n ",
     "language": "python",
     "metadata": {},
     "outputs": []
    },
    {
     "cell_type": "markdown",
     "metadata": {},
     "source": "On constate que les variables 'Day' et 'Month' tombent dans l'intervalle d'appr\u00e9ciation. Elles satisfont donc l'hypoth\u00e8se H0 et elles ne contribuent donc que tr\u00e8s peu \u00e0 la concentration en Ozone."
    },
    {
     "cell_type": "markdown",
     "metadata": {},
     "source": "### Question 7\n"
    },
    {
     "cell_type": "code",
     "collapsed": false,
     "input": "pred = np.array([1,197,10,70,3,1 ])\nMCO.predict(pred)",
     "language": "python",
     "metadata": {},
     "outputs": []
    },
    {
     "cell_type": "markdown",
     "metadata": {},
     "source": "## Exercice 2 (Algorithmes gloutons ou **greedy**)\n\n### Question 1\n\nOn suppose la variance connue. On se place sous les m\u00eames hypoth\u00e8ses que dans l'exercice 1, question 5. On construit une statistique S, d\u00e9finie telle que : "
    },
    {
     "cell_type": "code",
     "collapsed": false,
     "input": "Math(r'S = \\frac{\\hat{\\theta}}{\\sqrt{\\sigma^2(X\\,^tX)^{-1}}}')",
     "language": "python",
     "metadata": {},
     "outputs": [
      {
       "latex": "$$S = \\frac{\\hat{\\theta}}{\\sqrt{\\sigma^2(X\\,^tX)^{-1}}}$$",
       "metadata": {},
       "output_type": "pyout",
       "prompt_number": 93,
       "text": "<IPython.core.display.Math at 0x3cd75d0>"
      }
     ],
     "prompt_number": 93
    },
    {
     "cell_type": "markdown",
     "metadata": {},
     "source": "Sous cette hypoth\u00e8se, on a : "
    },
    {
     "cell_type": "code",
     "collapsed": false,
     "input": "Math(r'S = \\frac{\\hat{\\theta}}{\\sqrt{\\sigma^2(X\\,^tX)^{-1}}}\\sim \\mathcal{N}(\\theta, 1)')",
     "language": "python",
     "metadata": {},
     "outputs": [
      {
       "latex": "$$S = \\frac{\\hat{\\theta}}{\\sqrt{\\sigma^2(X\\,^tX)^{-1}}}\\sim \\mathcal{N}(\\theta, 1)$$",
       "metadata": {},
       "output_type": "pyout",
       "prompt_number": 94,
       "text": "<IPython.core.display.Math at 0x3cd7610>"
      }
     ],
     "prompt_number": 94
    },
    {
     "cell_type": "markdown",
     "metadata": {},
     "source": "Sous l'hypoth\u00e8se H0 :"
    },
    {
     "cell_type": "code",
     "collapsed": false,
     "input": "Math(r'S_j = \\frac{\\hat{\\theta_j}}{\\sqrt{\\sigma^2(X\\,^tX)^{-1}_{j,j}}}\\sim \\mathcal{N}(0, 1)')",
     "language": "python",
     "metadata": {},
     "outputs": [
      {
       "latex": "$$S_j = \\frac{\\hat{\\theta_j}}{\\sqrt{\\sigma^2(X\\,^tX)^{-1}_{j,j}}}\\sim \\mathcal{N}(0, 1)$$",
       "metadata": {},
       "output_type": "pyout",
       "prompt_number": 97,
       "text": "<IPython.core.display.Math at 0x3cd7710>"
      }
     ],
     "prompt_number": 97
    },
    {
     "cell_type": "markdown",
     "metadata": {},
     "source": "Ainsi, il reste \u00e0 utiliser la fonction quantile pour d\u00e9terminer l'intervalle d'acceptation : "
    },
    {
     "cell_type": "code",
     "collapsed": false,
     "input": "Math(r'I = \\big[F(\\frac{\\alpha}{2}),F(1 - \\frac{\\alpha}{2})\\big]')",
     "language": "python",
     "metadata": {},
     "outputs": [
      {
       "latex": "$$I = \\big[F(\\frac{\\alpha}{2}),F(1 - \\frac{\\alpha}{2})\\big]$$",
       "metadata": {},
       "output_type": "pyout",
       "prompt_number": 99,
       "text": "<IPython.core.display.Math at 0x3cd7790>"
      }
     ],
     "prompt_number": 99
    },
    {
     "cell_type": "markdown",
     "metadata": {},
     "source": "### Question 2\n"
    },
    {
     "cell_type": "code",
     "collapsed": false,
     "input": "def stpforward(X,y,M):\n    X = np.array(X)    \n    theta = np.zeros((X.shape[1],1))        \n    r = y\n    i = 0\n    S = list()\n    interval = range(X.shape[1])\n    X = X / np.sqrt(np.var(X))\n    while i<M:\n        alphas = list()\n        for idx in interval:\n            pds = np.abs(np.vdot(X[:,idx],r))\n            alphas.append([idx,pds])\n        alphas = np.array(alphas)\n        i_max = alphas[np.argmax(alphas[:,1]),0]\n        S.append(i_max)\n        # Construction de Xs\n        Xs = np.zeros(X.shape)\n        for index in range(X.shape[1]):\n            if index in S:\n                Xs[:,index] = X[:,index]\n        theta_S = np.dot(np.linalg.pinv(Xs),y)\n        r = y - np.dot(X,theta_S)\n        i = i + 1\n    \n    return theta_S,S        \n        ",
     "language": "python",
     "metadata": {},
     "outputs": []
    },
    {
     "cell_type": "code",
     "collapsed": false,
     "input": "### Question 3",
     "language": "python",
     "metadata": {},
     "outputs": []
    },
    {
     "cell_type": "code",
     "collapsed": false,
     "input": "print stpforward(X,y,3)\nprint stpforward(X,y,4)\nprint stpforward(X,y,5)            ",
     "language": "python",
     "metadata": {},
     "outputs": []
    }
   ],
   "metadata": {}
  }
 ]
}